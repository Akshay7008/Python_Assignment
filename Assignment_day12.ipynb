{
 "cells": [
  {
   "cell_type": "markdown",
   "id": "f735d77e",
   "metadata": {},
   "source": [
    "Create Employee class to have employee details\n",
    "empid int\n",
    "    name str\n",
    "    designation str\n",
    "    salary int  --> make it private (hidden)\n",
    "    project_ids_assigned (set)\n",
    "    skills list of str\n",
    "    company name : \n",
    "         shared in all employees\n",
    "\n",
    "Functionalities (methods):\n",
    "        display_projetids()\n",
    "        display_identity()\n",
    "        check_relevant_skill()\n",
    "        \n",
    "        display_company_details():\n",
    "            shared in all (class method)\n",
    "\n",
    "Init should be parameterised to take all\n",
    "neccessary details and initialize the object\n",
    "\n",
    "Create three employees with different details \n",
    "Give them skills\n",
    "\n",
    "Print identity of all of them (one by one)\n",
    "using instance method\n",
    "\n",
    "Print project ids of all of them (one by one)\n",
    "using instance method\n",
    "\n",
    "Print employee ids and names who have skill \"Python\"\n",
    "\n",
    "Print company details\n"
   ]
  },
  {
   "cell_type": "code",
   "execution_count": 17,
   "id": "5c247164",
   "metadata": {},
   "outputs": [],
   "source": [
    "class employee:\n",
    "    \n",
    "    def __init__(self):\n",
    "        self.empid=int(input(\"Enter the id\"))\n",
    "        self.name=input(\"Enter the name\")\n",
    "        self.designation=input(\"enter the desig\")\n",
    "        self.__salary=int(input(\"Enter the salary\"))\n",
    "        self.project_id=set()\n",
    "        employee.company_name=\"TCS\"\n",
    "        \n",
    "        \n",
    "    def display_project_ids(self):\n",
    "        print(self.empid,self.name,self.project_id,self.company_name)\n",
    "        \n",
    "    def display_identity()\n",
    "        print(self.empid,self.name)\n",
    "        \n",
    "    def \n",
    "        \n",
    "        "
   ]
  },
  {
   "cell_type": "code",
   "execution_count": 18,
   "id": "03710add",
   "metadata": {},
   "outputs": [
    {
     "name": "stdout",
     "output_type": "stream",
     "text": [
      "Enter the id1\n",
      "Enter the name55\n",
      "enter the desig44\n",
      "Enter the salary8888\n",
      "1 55 set() TCS\n"
     ]
    }
   ],
   "source": [
    "e1=employee()\n",
    "e1.display_project_ids()\n"
   ]
  },
  {
   "cell_type": "code",
   "execution_count": 19,
   "id": "01288b97",
   "metadata": {},
   "outputs": [
    {
     "data": {
      "text/plain": [
       "int"
      ]
     },
     "execution_count": 19,
     "metadata": {},
     "output_type": "execute_result"
    }
   ],
   "source": [
    "type(4)"
   ]
  },
  {
   "cell_type": "code",
   "execution_count": 22,
   "id": "040e595a",
   "metadata": {},
   "outputs": [
    {
     "ename": "NameError",
     "evalue": "name 'raw' is not defined",
     "output_type": "error",
     "traceback": [
      "\u001b[1;31m---------------------------------------------------------------------------\u001b[0m",
      "\u001b[1;31mNameError\u001b[0m                                 Traceback (most recent call last)",
      "Cell \u001b[1;32mIn[22], line 1\u001b[0m\n\u001b[1;32m----> 1\u001b[0m \u001b[38;5;28mprint\u001b[39m(raw)\n",
      "\u001b[1;31mNameError\u001b[0m: name 'raw' is not defined"
     ]
    }
   ],
   "source": [
    "print(raw)"
   ]
  },
  {
   "cell_type": "code",
   "execution_count": null,
   "id": "c2143b52",
   "metadata": {},
   "outputs": [],
   "source": []
  },
  {
   "cell_type": "raw",
   "id": "5b7822f7",
   "metadata": {},
   "source": []
  }
 ],
 "metadata": {
  "kernelspec": {
   "display_name": "Python 3 (ipykernel)",
   "language": "python",
   "name": "python3"
  },
  "language_info": {
   "codemirror_mode": {
    "name": "ipython",
    "version": 3
   },
   "file_extension": ".py",
   "mimetype": "text/x-python",
   "name": "python",
   "nbconvert_exporter": "python",
   "pygments_lexer": "ipython3",
   "version": "3.11.4"
  }
 },
 "nbformat": 4,
 "nbformat_minor": 5
}

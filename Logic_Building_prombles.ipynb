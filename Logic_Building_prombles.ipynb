{
 "cells": [
  {
   "cell_type": "markdown",
   "id": "c67420f8",
   "metadata": {},
   "source": [
    "Basic Logic building programs\n",
    "\n",
    "Simple Calculator Program\n",
    "Scientific Calculator program"
   ]
  },
  {
   "cell_type": "code",
   "execution_count": 3,
   "id": "571fa90c",
   "metadata": {},
   "outputs": [],
   "source": [
    "import math\n",
    "\n",
    "def addition(a,b):\n",
    "    print((lambda a,b: a+b)(a,b))\n",
    "   \n",
    "\n",
    "def subtraction(a,b):\n",
    "    print((lambda a,b: a-b)(a,b))\n",
    "    \n",
    "def mutipication(a,b):\n",
    "    print((lambda a,b: a*b)(a,b))\n",
    "    \n",
    "def divide(a,b):\n",
    "    print((lambda a,b: a//b)(a,b))\n",
    "    \n",
    "def logari(a):\n",
    "    print((lambda a: math.log(a))(a))\n",
    "    \n",
    "def power(a,b):\n",
    "    print((lambda a,b: a**b)(a,b))\n",
    "    \n",
    "\n",
    "def calculator():\n",
    "    while (True):\n",
    "        print(\"press 1 to addition\\n press 2 to subtract \\n prees 3 to mutipication\\n press 4 to divide\\n press 5 to logariithmic \\n press 6 to power\\n press 7 to exit\")\n",
    "        choice=int(input(\"enter the choice\"))\n",
    "    \n",
    "        match choice:\n",
    "        \n",
    "            case 1:\n",
    "                a=int(input(\"enter the 1st number\"))\n",
    "                b=int(input(\"enter the 2st number\"))\n",
    "                addition(a,b)\n",
    "                \n",
    "            case 2:\n",
    "                a=int(input(\"enter the 1st number\"))\n",
    "                b=int(input(\"enter the 2st number\"))\n",
    "                subtraction(a,b)\n",
    "                \n",
    "            case 3:\n",
    "                a=int(input(\"enter the 1st number\"))\n",
    "                b=int(input(\"enter the 2st number\"))\n",
    "                mutipication(a,b)\n",
    "                \n",
    "                \n",
    "                \n",
    "            case 4:\n",
    "                a=int(input(\"enter the 1st number\"))\n",
    "                b=int(input(\"enter the 2st number\"))\n",
    "                divide(a,b)\n",
    "                \n",
    "                \n",
    "            case 5:\n",
    "                a=int(input(\"enter the 1st number\"))\n",
    "                b=int(input(\"enter the 2st number\"))\n",
    "                logari(a)\n",
    "                \n",
    "            case 6:\n",
    "                a=int(input(\"enter the 1st number\"))\n",
    "                b=int(input(\"enter the 2st number\"))\n",
    "                power(a,b)\n",
    "                \n",
    "            case 7:\n",
    "                print(exit)\n",
    "                break\n",
    "                \n",
    "                \n",
    "                \n",
    "                \n",
    "                \n",
    "    "
   ]
  },
  {
   "cell_type": "code",
   "execution_count": 4,
   "id": "3c2f27c4",
   "metadata": {},
   "outputs": [
    {
     "name": "stdout",
     "output_type": "stream",
     "text": [
      "press 1 to addition\n",
      " press 2 to subtract \n",
      " prees 3 to mutipication\n",
      " press 4 to divide\n",
      " press 5 to logariithmic \n",
      " press 6 to power\n",
      " press 7 to exit\n",
      "enter the choice6\n",
      "enter the 1st number10\n",
      "enter the 2st number2\n",
      "100\n",
      "press 1 to addition\n",
      " press 2 to subtract \n",
      " prees 3 to mutipication\n",
      " press 4 to divide\n",
      " press 5 to logariithmic \n",
      " press 6 to power\n",
      " press 7 to exit\n",
      "enter the choice7\n",
      "<IPython.core.autocall.ZMQExitAutocall object at 0x000001BDCEE89490>\n"
     ]
    }
   ],
   "source": [
    "calculator()"
   ]
  },
  {
   "cell_type": "markdown",
   "id": "67a238f1",
   "metadata": {},
   "source": [
    "WAP to print the odd numbers from 1 to 99. Prints one number per line."
   ]
  },
  {
   "cell_type": "code",
   "execution_count": 8,
   "id": "e4552d99",
   "metadata": {},
   "outputs": [
    {
     "name": "stdout",
     "output_type": "stream",
     "text": [
      "1\n",
      "3\n",
      "5\n",
      "7\n",
      "9\n",
      "11\n",
      "13\n",
      "15\n",
      "17\n",
      "19\n",
      "21\n",
      "23\n",
      "25\n",
      "27\n",
      "29\n",
      "31\n",
      "33\n",
      "35\n",
      "37\n",
      "39\n",
      "41\n",
      "43\n",
      "45\n",
      "47\n",
      "49\n",
      "51\n",
      "53\n",
      "55\n",
      "57\n",
      "59\n",
      "61\n",
      "63\n",
      "65\n",
      "67\n",
      "69\n",
      "71\n",
      "73\n",
      "75\n",
      "77\n",
      "79\n",
      "81\n",
      "83\n",
      "85\n",
      "87\n",
      "89\n",
      "91\n",
      "93\n",
      "95\n",
      "97\n",
      "99\n"
     ]
    }
   ],
   "source": [
    "odd_list=[]\n",
    "\n",
    "for i in range(1,100,2):\n",
    "    odd_list.append(i)\n",
    "\n",
    "odd_numbers=odd_list\n",
    "\n",
    "for e in odd_numbers:\n",
    "    print(e)"
   ]
  },
  {
   "cell_type": "markdown",
   "id": "2c22e209",
   "metadata": {},
   "source": [
    "AP  to accept a number and check the number is even or not. Prints 1 if the number is even or 0 if the number is odd."
   ]
  },
  {
   "cell_type": "code",
   "execution_count": 9,
   "id": "d21d9b7a",
   "metadata": {},
   "outputs": [
    {
     "name": "stdout",
     "output_type": "stream",
     "text": [
      "enter the number4\n",
      "1\n"
     ]
    }
   ],
   "source": [
    "number=int(input(\"enter the number\"))\n",
    "\n",
    "if number%2==0:\n",
    "    print(\"1\")\n",
    "    \n",
    "else:\n",
    "    print(\"0\")\n",
    "    "
   ]
  },
  {
   "cell_type": "markdown",
   "id": "99b381e9",
   "metadata": {},
   "source": [
    "WAP to print numbers between 1 to 100 which are divisible by 3, 5 and by both\n",
    "( total 3 list of numbers to be printed)\n"
   ]
  },
  {
   "cell_type": "code",
   "execution_count": 13,
   "id": "ac129e4a",
   "metadata": {},
   "outputs": [
    {
     "name": "stdout",
     "output_type": "stream",
     "text": [
      "number divisible by 3 [3, 6, 9, 12, 15, 18, 21, 24, 27, 30, 33, 36, 39, 42, 45, 48, 51, 54, 57, 60, 63, 66, 69, 72, 75, 78, 81, 84, 87, 90, 93, 96, 99]\n",
      "number divisible by 5 [5, 10, 15, 20, 25, 30, 35, 40, 45, 50, 55, 60, 65, 70, 75, 80, 85, 90, 95]\n",
      "number divisible by 3 and 5 [15, 30, 45, 60, 75, 90]\n"
     ]
    }
   ],
   "source": [
    "number_list=[]\n",
    "num3=[]\n",
    "num5=[]\n",
    "num=[]\n",
    "for i in range(1,100):\n",
    "    number_list.append(i)\n",
    "    \n",
    "a=number_list\n",
    "\n",
    "for e in a:\n",
    "    if e%3==0:\n",
    "        num3.append(e)\n",
    "    if e%5==0:\n",
    "        num5.append(e)\n",
    "    if e%3==0 and e%5==0:\n",
    "        num.append(e)\n",
    "        \n",
    "print(\"number divisible by 3\",num3)\n",
    "print(\"number divisible by 5\",num5)\n",
    "print(\"number divisible by 3 and 5\",num)\n",
    "\n",
    "\n",
    "    "
   ]
  },
  {
   "cell_type": "markdown",
   "id": "8c592b2a",
   "metadata": {},
   "source": [
    "WAP that accepts three integers from the user and return true if two or more of them (integers ) have the same rightmost digit. The integers are non-negative"
   ]
  },
  {
   "cell_type": "code",
   "execution_count": null,
   "id": "cd8fa603",
   "metadata": {},
   "outputs": [],
   "source": []
  },
  {
   "cell_type": "code",
   "execution_count": null,
   "id": "9a31a780",
   "metadata": {},
   "outputs": [],
   "source": [
    "WAP to convert input number of seconds to HH:MM:SS"
   ]
  },
  {
   "cell_type": "code",
   "execution_count": 35,
   "id": "24649562",
   "metadata": {},
   "outputs": [
    {
     "name": "stdout",
     "output_type": "stream",
     "text": [
      "Enter the time in seconds7300\n",
      "the time in format HH:MM:SS is 2:1:40\n"
     ]
    }
   ],
   "source": [
    "time=int(input(\"Enter the time in seconds\"))\n",
    "\n",
    "if time<3600:\n",
    "    MM,SS=divmod(time,60)\n",
    "    print(\"the time in format HH:MM:SS is {}:{}:{}\".format (0,MM,SS))\n",
    "\n",
    "elif time<60:\n",
    "    SS=time\n",
    "    print(\"the time in format HH:MM:SS is {}:{}:{}\".format (0,0,SS))\n",
    "    \n",
    "else:\n",
    "    HH,rem=divmod(time,3600)\n",
    "    MM,SS=divmod(rem,60)\n",
    "        \n",
    "print(\"the time in format HH:MM:SS is {}:{}:{}\".format (HH,MM,SS))"
   ]
  },
  {
   "cell_type": "markdown",
   "id": "0d257b8f",
   "metadata": {},
   "source": [
    "WAP to print all leap years between 2000 to 2100. Apply all conditions of checking leap year ( (divisible by 4 and not divisible by 100) OR (divisible by 400))"
   ]
  },
  {
   "cell_type": "code",
   "execution_count": 22,
   "id": "64fbd4aa",
   "metadata": {},
   "outputs": [
    {
     "name": "stdout",
     "output_type": "stream",
     "text": [
      "enter the year2005\n",
      "year is not leap year\n"
     ]
    }
   ],
   "source": [
    "year=int(input(\"enter the year\"))\n",
    "\n",
    "if ((year%4==0)and(year%100!=0))or (year%400==0):\n",
    "    print(\"year is leap year\")\n",
    "else:\n",
    "    print(\"year is not leap year\")\n",
    "    "
   ]
  },
  {
   "cell_type": "markdown",
   "id": "89472ab0",
   "metadata": {},
   "source": [
    "WAP to print calender for a month. Take how many days are there in month and starting day of the month as input\n",
    "    Ex. input no of days : 30  starting day of month : Thursday\n",
    "    Ouput :: Day wise Calender  ( just like June 2022 month)"
   ]
  },
  {
   "cell_type": "code",
   "execution_count": 32,
   "id": "3cb4fa71",
   "metadata": {},
   "outputs": [
    {
     "name": "stdout",
     "output_type": "stream",
     "text": [
      "enter the days using spacesMon Tue Wed Thur Fri Sat Sun\n",
      "Mon   Tue   Wed   Thur   Fri   Sat   Sun   "
     ]
    }
   ],
   "source": [
    "days=input(\"enter the days using spaces\")\n",
    "day=days.split()\n",
    "\n",
    "for i in (day) :\n",
    "    print(i,end=\"   \")\n",
    "    \n",
    "    \n"
   ]
  },
  {
   "cell_type": "markdown",
   "id": "ff73084d",
   "metadata": {},
   "source": [
    "Fibonacci Series.\n",
    "    1,1,2,3,5,8,13,21,34,..."
   ]
  },
  {
   "cell_type": "code",
   "execution_count": 1,
   "id": "03b16bbd",
   "metadata": {},
   "outputs": [],
   "source": [
    "#num=int(input(\"Enter the number\"))\n",
    "def fabonacci_series(num):\n",
    "    a=0\n",
    "    b=1\n",
    "\n",
    "    for i in range(num):\n",
    "        print(a)\n",
    "        total=(a+b)\n",
    "        a=b\n",
    "        b=total\n",
    "    \n",
    "    \n",
    "    "
   ]
  },
  {
   "cell_type": "code",
   "execution_count": 2,
   "id": "76d5e778",
   "metadata": {},
   "outputs": [
    {
     "name": "stdout",
     "output_type": "stream",
     "text": [
      "0\n",
      "1\n",
      "1\n",
      "2\n",
      "3\n",
      "5\n",
      "8\n",
      "13\n",
      "21\n",
      "34\n"
     ]
    }
   ],
   "source": [
    "fabonacci_series(10)\n"
   ]
  },
  {
   "cell_type": "markdown",
   "id": "e6efac56",
   "metadata": {},
   "source": [
    "Factorial of a number using loop\n",
    "    n! = n * (n-1) * (n-2) * ... *2*1"
   ]
  },
  {
   "cell_type": "code",
   "execution_count": 4,
   "id": "ac05c3b6",
   "metadata": {},
   "outputs": [],
   "source": [
    "#num=int(input(\"Enter teh number\"))\n",
    "\n",
    "def factorial(num):\n",
    "    fact=1\n",
    "    for i in range(2,num+1):\n",
    "        fact=fact*i\n",
    "    print(\"{}! is {}\".format(num,fact))\n"
   ]
  },
  {
   "cell_type": "code",
   "execution_count": 5,
   "id": "db9b76e0",
   "metadata": {},
   "outputs": [
    {
     "name": "stdout",
     "output_type": "stream",
     "text": [
      "4! is 24\n"
     ]
    }
   ],
   "source": [
    "factorial(4)"
   ]
  },
  {
   "cell_type": "markdown",
   "id": "188a910a",
   "metadata": {},
   "source": [
    "Factorial Program using Recursion\n",
    "    n! = n * (n-1) * (n-2) * ... *2*1"
   ]
  },
  {
   "cell_type": "code",
   "execution_count": 8,
   "id": "620dad62",
   "metadata": {},
   "outputs": [
    {
     "data": {
      "text/plain": [
       "24"
      ]
     },
     "execution_count": 8,
     "metadata": {},
     "output_type": "execute_result"
    }
   ],
   "source": [
    "def factorial(num):\n",
    "    if num==0:\n",
    "        return 1\n",
    "    else:\n",
    "        return num*factorial(num-1)\n",
    "        \n",
    "\n",
    "factorial(4)"
   ]
  },
  {
   "cell_type": "markdown",
   "id": "2ed52c55",
   "metadata": {},
   "source": [
    "Armstrong Number.\n",
    "    It is a number with 'n' digits. Here (sum of every digit ^ n) equal to ( number itself)\n",
    "\n",
    "    1) 1^3 5^3 3^3=153 ( here number of digits(n) is 3)\n",
    "    2) 1^1 = 1 ( here number of digits is 1)\n",
    "    3) 1634 = 1^4 + 6^4 + 3^4 + 4^4 ( here number of digits is 4)"
   ]
  },
  {
   "cell_type": "code",
   "execution_count": null,
   "id": "4f48a24d",
   "metadata": {},
   "outputs": [],
   "source": []
  }
 ],
 "metadata": {
  "kernelspec": {
   "display_name": "Python 3 (ipykernel)",
   "language": "python",
   "name": "python3"
  },
  "language_info": {
   "codemirror_mode": {
    "name": "ipython",
    "version": 3
   },
   "file_extension": ".py",
   "mimetype": "text/x-python",
   "name": "python",
   "nbconvert_exporter": "python",
   "pygments_lexer": "ipython3",
   "version": "3.11.4"
  }
 },
 "nbformat": 4,
 "nbformat_minor": 5
}

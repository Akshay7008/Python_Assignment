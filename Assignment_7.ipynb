{
 "cells": [
  {
   "cell_type": "markdown",
   "id": "4e2488f0",
   "metadata": {},
   "source": [
    "1. Given a string of odd length greater than 7, return a new string made of the middle three characters\n",
    "of a given String\n",
    "\n",
    "Given:\n",
    "str1 = \"RakeshzipPetabb\"\n",
    " Output\n",
    " zip\n",
    "\n",
    "str2 = \"JazzbonAyxx\"\n",
    " Output\n",
    " bon"
   ]
  },
  {
   "cell_type": "code",
   "execution_count": 24,
   "id": "52885785",
   "metadata": {},
   "outputs": [
    {
     "name": "stdout",
     "output_type": "stream",
     "text": [
      "zip\n",
      "bon\n"
     ]
    }
   ],
   "source": [
    "l1=[]\n",
    "s1 = \"RakeshzipPetabb\"\n",
    "midd=len(s1)//2\n",
    "\n",
    "a=midd-1\n",
    "b=midd+2\n",
    "\n",
    "print(s1[a:b])\n",
    "\n",
    "s2 = \"JazzbonAyxx\"\n",
    "mid=len(s2)//2\n",
    "c=mid-1\n",
    "d=mid+2\n",
    "print(s2[c:d])\n"
   ]
  },
  {
   "cell_type": "markdown",
   "id": "22cdacbd",
   "metadata": {},
   "source": [
    "2. Given two strings, s1 and s2, create a new string by appending s2 in the middle of s1\n",
    "\n",
    "Given:\n",
    "s1 = \"Ault\"\n",
    "s2 = \"Kelly\"\n",
    "\n",
    "Expected Output:\n",
    "AuKellylt"
   ]
  },
  {
   "cell_type": "code",
   "execution_count": 41,
   "id": "8fb3136c",
   "metadata": {},
   "outputs": [
    {
     "name": "stdout",
     "output_type": "stream",
     "text": [
      "AuKellylt\n"
     ]
    }
   ],
   "source": [
    "s1 = \"Ault\" \n",
    "s2 = \"Kelly\"\n",
    "\n",
    "# mid=len(s1)//2\n",
    "\n",
    "# b=a+2\n",
    "a=s1[0:2]\n",
    "b=s1[2:4]\n",
    "\n",
    "print(a+s2+b)\n"
   ]
  },
  {
   "cell_type": "code",
   "execution_count": null,
   "id": "68f59ffd",
   "metadata": {},
   "outputs": [],
   "source": []
  }
 ],
 "metadata": {
  "kernelspec": {
   "display_name": "Python 3 (ipykernel)",
   "language": "python",
   "name": "python3"
  },
  "language_info": {
   "codemirror_mode": {
    "name": "ipython",
    "version": 3
   },
   "file_extension": ".py",
   "mimetype": "text/x-python",
   "name": "python",
   "nbconvert_exporter": "python",
   "pygments_lexer": "ipython3",
   "version": "3.11.4"
  }
 },
 "nbformat": 4,
 "nbformat_minor": 5
}

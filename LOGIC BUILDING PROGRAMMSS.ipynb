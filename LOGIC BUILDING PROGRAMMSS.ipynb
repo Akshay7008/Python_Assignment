{
 "cells": [
  {
   "cell_type": "markdown",
   "id": "51681ee5",
   "metadata": {},
   "source": [
    "Simple Calculator Program\n",
    "Scientific Calculator program"
   ]
  },
  {
   "cell_type": "code",
   "execution_count": 1,
   "id": "5dfcf809",
   "metadata": {},
   "outputs": [
    {
     "name": "stdout",
     "output_type": "stream",
     "text": [
      "Enter the 1st number5\n",
      "Enter the 2nd number5\n",
      " Press 1 for addition\n",
      " press 2 for subtraction\n",
      " press 3 for division\n",
      " press 4 for multipication \n",
      " press 5 for exit\n",
      "Enter the choice4\n",
      "multiplication of the number\n",
      "25\n",
      " Press 1 for addition\n",
      " press 2 for subtraction\n",
      " press 3 for division\n",
      " press 4 for multipication \n",
      " press 5 for exit\n",
      "Enter the choice1\n",
      "Addition of the numbers\n",
      "10\n",
      " Press 1 for addition\n",
      " press 2 for subtraction\n",
      " press 3 for division\n",
      " press 4 for multipication \n",
      " press 5 for exit\n",
      "Enter the choice5\n",
      "exiting\n"
     ]
    }
   ],
   "source": [
    "a=int(input(\"Enter the 1st number\"))\n",
    "b=int(input(\"Enter the 2nd number\"))\n",
    "\n",
    "while(True):\n",
    "    \n",
    "    print (\" Press 1 for addition\\n press 2 for subtraction\\n press 3 for division\\n press 4 for multipication \\n press 5 for exit\")\n",
    "    num =int(input(\"Enter the choice\"))\n",
    "  \n",
    "\n",
    "    \n",
    "    match num:\n",
    "        \n",
    "        case 1:\n",
    "            print(\"Addition of the numbers\")\n",
    "            total=(a+b)\n",
    "            print(total)\n",
    "        case 2:\n",
    "            print(\"subtraction of numbers\")\n",
    "            sub=(a-b)\n",
    "            print(sub)\n",
    "        case 3:\n",
    "            print(\"Division of numbers\")\n",
    "            div=a/b\n",
    "            print(div)\n",
    "        case 4:\n",
    "            print(\"multiplication of the number\")\n",
    "            mul=a*b\n",
    "            print(mul)\n",
    "        case 5:\n",
    "            print(\"exiting\")\n",
    "            break\n",
    "    \n"
   ]
  },
  {
   "cell_type": "code",
   "execution_count": null,
   "id": "666114b3",
   "metadata": {},
   "outputs": [],
   "source": []
  },
  {
   "cell_type": "code",
   "execution_count": null,
   "id": "6d5b3376",
   "metadata": {},
   "outputs": [],
   "source": []
  }
 ],
 "metadata": {
  "kernelspec": {
   "display_name": "Python 3 (ipykernel)",
   "language": "python",
   "name": "python3"
  },
  "language_info": {
   "codemirror_mode": {
    "name": "ipython",
    "version": 3
   },
   "file_extension": ".py",
   "mimetype": "text/x-python",
   "name": "python",
   "nbconvert_exporter": "python",
   "pygments_lexer": "ipython3",
   "version": "3.11.4"
  }
 },
 "nbformat": 4,
 "nbformat_minor": 5
}

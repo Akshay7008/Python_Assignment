{
 "cells": [
  {
   "cell_type": "markdown",
   "id": "e0732e90",
   "metadata": {},
   "source": [
    "Q1. What will be output of following\n",
    "\n",
    "a. type(0)\n",
    "b. type(0.0)\n",
    "c. type('A')\n",
    "d. type(print) -> remember print is function\n",
    "e. type(3+3j)\n",
    "f. type(True)"
   ]
  },
  {
   "cell_type": "code",
   "execution_count": 4,
   "id": "95e445ae",
   "metadata": {},
   "outputs": [
    {
     "data": {
      "text/plain": [
       "int"
      ]
     },
     "execution_count": 4,
     "metadata": {},
     "output_type": "execute_result"
    }
   ],
   "source": [
    "type(0)\n",
    "\n"
   ]
  },
  {
   "cell_type": "code",
   "execution_count": 5,
   "id": "6a9a491e",
   "metadata": {},
   "outputs": [
    {
     "data": {
      "text/plain": [
       "float"
      ]
     },
     "execution_count": 5,
     "metadata": {},
     "output_type": "execute_result"
    }
   ],
   "source": [
    "type(0.0)"
   ]
  },
  {
   "cell_type": "code",
   "execution_count": 6,
   "id": "41c46b76",
   "metadata": {},
   "outputs": [
    {
     "data": {
      "text/plain": [
       "str"
      ]
     },
     "execution_count": 6,
     "metadata": {},
     "output_type": "execute_result"
    }
   ],
   "source": [
    "type('A')"
   ]
  },
  {
   "cell_type": "code",
   "execution_count": 7,
   "id": "dda8b8cb",
   "metadata": {},
   "outputs": [
    {
     "data": {
      "text/plain": [
       "builtin_function_or_method"
      ]
     },
     "execution_count": 7,
     "metadata": {},
     "output_type": "execute_result"
    }
   ],
   "source": [
    "type(print)"
   ]
  },
  {
   "cell_type": "code",
   "execution_count": 8,
   "id": "860380fb",
   "metadata": {},
   "outputs": [
    {
     "data": {
      "text/plain": [
       "complex"
      ]
     },
     "execution_count": 8,
     "metadata": {},
     "output_type": "execute_result"
    }
   ],
   "source": [
    "type(3+3j)"
   ]
  },
  {
   "cell_type": "code",
   "execution_count": 9,
   "id": "691b1ee8",
   "metadata": {},
   "outputs": [
    {
     "data": {
      "text/plain": [
       "bool"
      ]
     },
     "execution_count": 9,
     "metadata": {},
     "output_type": "execute_result"
    }
   ],
   "source": [
    "type(True)"
   ]
  },
  {
   "cell_type": "markdown",
   "id": "f7222b09",
   "metadata": {},
   "source": [
    "Q2. What will be output of following\n",
    "\n",
    "a. isinstance(10,int)\n",
    "b. isinstance(10,float)\n",
    "c. isinstance(1,bool)\n",
    "d. isinstance(0,bool)\n",
    "e. isinstance(78.8,int)\n",
    "f. isinstance(78.8,float)\n",
    "g. isinstance(78.8,complex)\n",
    "h. isinstance(True,bool)"
   ]
  },
  {
   "cell_type": "code",
   "execution_count": 10,
   "id": "8f719c07",
   "metadata": {},
   "outputs": [
    {
     "data": {
      "text/plain": [
       "True"
      ]
     },
     "execution_count": 10,
     "metadata": {},
     "output_type": "execute_result"
    }
   ],
   "source": [
    "isinstance(10,int)"
   ]
  },
  {
   "cell_type": "code",
   "execution_count": 11,
   "id": "19e25642",
   "metadata": {},
   "outputs": [
    {
     "data": {
      "text/plain": [
       "False"
      ]
     },
     "execution_count": 11,
     "metadata": {},
     "output_type": "execute_result"
    }
   ],
   "source": [
    "isinstance(10,float)"
   ]
  },
  {
   "cell_type": "code",
   "execution_count": 15,
   "id": "0834e257",
   "metadata": {},
   "outputs": [
    {
     "data": {
      "text/plain": [
       "False"
      ]
     },
     "execution_count": 15,
     "metadata": {},
     "output_type": "execute_result"
    }
   ],
   "source": [
    "isinstance(1,bool)"
   ]
  },
  {
   "cell_type": "code",
   "execution_count": 13,
   "id": "f1184e0d",
   "metadata": {},
   "outputs": [
    {
     "data": {
      "text/plain": [
       "False"
      ]
     },
     "execution_count": 13,
     "metadata": {},
     "output_type": "execute_result"
    }
   ],
   "source": [
    "isinstance(0,bool)"
   ]
  },
  {
   "cell_type": "code",
   "execution_count": 16,
   "id": "4e6dee10",
   "metadata": {},
   "outputs": [
    {
     "data": {
      "text/plain": [
       "False"
      ]
     },
     "execution_count": 16,
     "metadata": {},
     "output_type": "execute_result"
    }
   ],
   "source": [
    "isinstance(78.8,int)"
   ]
  },
  {
   "cell_type": "code",
   "execution_count": 17,
   "id": "318f2ff7",
   "metadata": {},
   "outputs": [
    {
     "data": {
      "text/plain": [
       "True"
      ]
     },
     "execution_count": 17,
     "metadata": {},
     "output_type": "execute_result"
    }
   ],
   "source": [
    "isinstance(78.8,float)"
   ]
  },
  {
   "cell_type": "code",
   "execution_count": 18,
   "id": "d09ff827",
   "metadata": {},
   "outputs": [
    {
     "data": {
      "text/plain": [
       "False"
      ]
     },
     "execution_count": 18,
     "metadata": {},
     "output_type": "execute_result"
    }
   ],
   "source": [
    "isinstance(78.8,complex)"
   ]
  },
  {
   "cell_type": "code",
   "execution_count": 19,
   "id": "7b6b7302",
   "metadata": {},
   "outputs": [
    {
     "data": {
      "text/plain": [
       "True"
      ]
     },
     "execution_count": 19,
     "metadata": {},
     "output_type": "execute_result"
    }
   ],
   "source": [
    "isinstance(True,bool)"
   ]
  },
  {
   "cell_type": "markdown",
   "id": "2b8f2540",
   "metadata": {},
   "source": [
    "Q3. WAP to take following from user, \n",
    "roll no : should be int : store in a variable\n",
    "percentage marks : should be float: store in a variable\n",
    "Any complex number : should be a complex number : store in a variable\n",
    "name of student: should be a string : store in a variable"
   ]
  },
  {
   "cell_type": "code",
   "execution_count": 20,
   "id": "8519b37d",
   "metadata": {},
   "outputs": [
    {
     "name": "stdout",
     "output_type": "stream",
     "text": [
      "Enter your roll no :31\n",
      "31\n",
      "Enter your percentage88\n",
      "88.0\n",
      "Enter your nameomkar \n",
      "omkar \n",
      "Enter the complex number-1\n",
      "(-1+0j)\n"
     ]
    }
   ],
   "source": [
    "rollno= int(input(\"Enter your roll no :\"))\n",
    "print(rollno)\n",
    "per=float(input(\"Enter your percentage\"))\n",
    "print(per)\n",
    "name=input(\"Enter your name\")\n",
    "print(name)\n",
    "comp=complex(input(\"Enter the complex number\"))\n",
    "print(comp)"
   ]
  },
  {
   "cell_type": "markdown",
   "id": "eeccc7c9",
   "metadata": {},
   "source": [
    "Q4. WAP to convert given integer to binary, hex and octal format"
   ]
  },
  {
   "cell_type": "code",
   "execution_count": 34,
   "id": "202dec19",
   "metadata": {},
   "outputs": [
    {
     "name": "stdout",
     "output_type": "stream",
     "text": [
      "0b1000001\n",
      "0x41\n",
      "A\n",
      "65\n"
     ]
    }
   ],
   "source": [
    "num=65\n",
    "\n",
    "print(bin(num))\n",
    "print(hex(num))\n",
    "print(chr(num))\n",
    "print(ord('A'))\n",
    "\n"
   ]
  },
  {
   "cell_type": "markdown",
   "id": "411616f2",
   "metadata": {},
   "source": [
    "Q5. WAP to convert given binary string to an integer.\n",
    "NOTE: Binary string should start with '0b' always"
   ]
  },
  {
   "cell_type": "code",
   "execution_count": 43,
   "id": "b075a42b",
   "metadata": {},
   "outputs": [
    {
     "name": "stdout",
     "output_type": "stream",
     "text": [
      "4\n"
     ]
    }
   ],
   "source": [
    "b= 0b000100\n",
    "print(int(b))\n"
   ]
  },
  {
   "cell_type": "markdown",
   "id": "59ad651d",
   "metadata": {},
   "source": [
    "Q6. WAP to convert given octal string to an integer.\n",
    "NOTE: Binary string should start with '0o' always"
   ]
  },
  {
   "cell_type": "code",
   "execution_count": 2,
   "id": "47d07b63",
   "metadata": {},
   "outputs": [
    {
     "name": "stdout",
     "output_type": "stream",
     "text": [
      "enter the octal string41\n"
     ]
    },
    {
     "data": {
      "text/plain": [
       "33"
      ]
     },
     "execution_count": 2,
     "metadata": {},
     "output_type": "execute_result"
    }
   ],
   "source": [
    "a=input(\"enter the octal string\")\n",
    "\n",
    "int(a,8)"
   ]
  },
  {
   "cell_type": "markdown",
   "id": "5fb65403",
   "metadata": {},
   "source": [
    "Q7. WAP to convert given hex string to an integer.\n",
    "NOTE: Binary string should start with '0x' always"
   ]
  },
  {
   "cell_type": "code",
   "execution_count": 3,
   "id": "b0a7b675",
   "metadata": {},
   "outputs": [
    {
     "name": "stdout",
     "output_type": "stream",
     "text": [
      "enter the Hexa string41\n"
     ]
    },
    {
     "data": {
      "text/plain": [
       "65"
      ]
     },
     "execution_count": 3,
     "metadata": {},
     "output_type": "execute_result"
    }
   ],
   "source": [
    "a=input(\"enter the Hexa string\")\n",
    "\n",
    "int(a,16)"
   ]
  },
  {
   "cell_type": "markdown",
   "id": "a3438155",
   "metadata": {},
   "source": [
    "Q8. WAP to take an int from user. Print number of 1's and 0's in binary format of given number.\n",
    "NOTE: '0b' is suffix in binary string. It should not be included in calculation"
   ]
  },
  {
   "cell_type": "code",
   "execution_count": 10,
   "id": "848199fd",
   "metadata": {},
   "outputs": [
    {
     "name": "stdout",
     "output_type": "stream",
     "text": [
      "enter the number65\n",
      "65\n",
      "0\n",
      "b\n",
      "1\n",
      "0\n",
      "0\n",
      "0\n",
      "0\n",
      "0\n",
      "1\n"
     ]
    }
   ],
   "source": [
    "a =int(input(\"enter the number\"))\n",
    "print(a)\n",
    "\n",
    "b=bin(a)\n",
    "\n",
    "for char in b:\n",
    "    print(char)\n"
   ]
  },
  {
   "cell_type": "markdown",
   "id": "0fa2bcc0",
   "metadata": {},
   "source": [
    "Write a menu driven program.\n",
    "Ask the user which input needs to be converted \n",
    "1. binary 2. Octal 3. Hex\n",
    "Then convert given string to integer using int() function"
   ]
  },
  {
   "cell_type": "code",
   "execution_count": null,
   "id": "2bf3efc5",
   "metadata": {},
   "outputs": [],
   "source": [
    "print(\"press 1 to conert into binary\")\n",
    "print(\"press 2 to conert into octal\")\n",
    "print(\"press 3 to conert into hexa\")\n",
    "print(\"press 4 to quit \")\n",
    "a=int(input(\"Enter the choice\"))\n",
    "b=int(input(\"Enter the number\"))\n",
    "\n",
    "while a!=4:\n",
    "    \n",
    "    if a==1:\n",
    "        print(bin(b))\n",
    "    else a==2:\n",
    "        print()"
   ]
  },
  {
   "cell_type": "code",
   "execution_count": null,
   "id": "ed5467ec",
   "metadata": {},
   "outputs": [],
   "source": []
  }
 ],
 "metadata": {
  "kernelspec": {
   "display_name": "Python 3 (ipykernel)",
   "language": "python",
   "name": "python3"
  },
  "language_info": {
   "codemirror_mode": {
    "name": "ipython",
    "version": 3
   },
   "file_extension": ".py",
   "mimetype": "text/x-python",
   "name": "python",
   "nbconvert_exporter": "python",
   "pygments_lexer": "ipython3",
   "version": "3.11.4"
  }
 },
 "nbformat": 4,
 "nbformat_minor": 5
}

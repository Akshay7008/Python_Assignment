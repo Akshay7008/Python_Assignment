{
 "cells": [
  {
   "cell_type": "markdown",
   "id": "76e6792b",
   "metadata": {},
   "source": [
    "Write programs using lists in python\n",
    "1.Reverse a given list in Python\n",
    "a List = [100, 200, 300, 400, 500]\n",
    "\n",
    "output:\n",
    "[500, 400, 300, 200, 100"
   ]
  },
  {
   "cell_type": "code",
   "execution_count": 1,
   "id": "0d8e3409",
   "metadata": {},
   "outputs": [
    {
     "name": "stdout",
     "output_type": "stream",
     "text": [
      "[500, 400, 300, 200, 100]\n"
     ]
    }
   ],
   "source": [
    "l1 =[100,200,300,400,500]\n",
    "\n",
    "l2 =l1[::-1]\n",
    "print(l2)"
   ]
  },
  {
   "cell_type": "markdown",
   "id": "5b7ace39",
   "metadata": {},
   "source": [
    "2. take a list 'l1' of even nos between 150 to 250. Print its length.\n",
    "Then create another list 'l2' using 'l1', containing only nos divisible by 4 from 'l1'"
   ]
  },
  {
   "cell_type": "code",
   "execution_count": 20,
   "id": "9beb4c32",
   "metadata": {},
   "outputs": [
    {
     "name": "stdout",
     "output_type": "stream",
     "text": [
      "[150, 152, 154, 156, 158, 160, 162, 164, 166, 168, 170, 172, 174, 176, 178, 180, 182, 184, 186, 188, 190, 192, 194, 196, 198, 200, 202, 204, 206, 208, 210, 212, 214, 216, 218, 220, 222, 224, 226, 228, 230, 232, 234, 236, 238, 240, 242, 244, 246, 248]\n",
      "length of list\n",
      "50\n",
      "list l2 is\n",
      "[150, 152, 154, 156, 158, 160, 162, 164, 166, 168, 170, 172, 174, 176, 178, 180, 182, 184, 186, 188, 190, 192, 194, 196, 198, 200, 202, 204, 206, 208, 210, 212, 214, 216, 218, 220, 222, 224, 226, 228, 230, 232, 234, 236, 238, 240, 242, 244, 246, 248]\n",
      "list of number divisible by 4\n",
      "[152, 156, 160, 164, 168, 172, 176, 180, 184, 188, 192, 196, 200, 204, 208, 212, 216, 220, 224, 228, 232, 236, 240, 244, 248]\n",
      "25\n"
     ]
    }
   ],
   "source": [
    "l1=[]\n",
    "l2=[]\n",
    "l3=[]\n",
    "for i in range (150,250,2):\n",
    "    l1.append(i)\n",
    "\n",
    "    \n",
    "print(l1)\n",
    "print(\"length of list\")\n",
    "print(len(l1)) \n",
    "\n",
    "\n",
    "l2 =l1.copy()\n",
    "print(\"list l2 is\")\n",
    "print(l2)\n",
    "\n",
    "for e in l2:\n",
    "    if (e%4 == 0):\n",
    "        l3.append(e)\n",
    "print(\"list of number divisible by 4\")\n",
    "print(l3)\n",
    "print(len(l3))\n",
    "\n"
   ]
  },
  {
   "cell_type": "markdown",
   "id": "ce923dbe",
   "metadata": {},
   "source": [
    "3. Given a Python list of numbers. Turn every item of a list into its square root\n",
    "aList = [1, 4, 9, 16, 25, 36, 49] \n",
    "output:\n",
    "[1, 2, 3, 4, 5, 6, 7]"
   ]
  },
  {
   "cell_type": "code",
   "execution_count": 24,
   "id": "68066159",
   "metadata": {},
   "outputs": [
    {
     "name": "stdout",
     "output_type": "stream",
     "text": [
      "[1, 2, 3, 4, 5, 6, 7]\n"
     ]
    }
   ],
   "source": [
    "import math\n",
    "\n",
    "l1=[1,4,9,16,25,36,49]\n",
    "l2 =[]\n",
    "\n",
    "for e in l1:\n",
    "    l2.append(int(math.sqrt(e)))\n",
    "    \n",
    "print(l2)"
   ]
  },
  {
   "cell_type": "markdown",
   "id": "3d821650",
   "metadata": {},
   "source": [
    "4. Print two lists in the following order\n",
    "list1 = [5, 6,7]\n",
    "list2 = [0, 1]\n",
    "output:\n",
    "50,51,60,61,70,71"
   ]
  },
  {
   "cell_type": "code",
   "execution_count": 34,
   "id": "70ff56af",
   "metadata": {},
   "outputs": [
    {
     "name": "stdout",
     "output_type": "stream",
     "text": [
      "['50', '51', '60', '61', '70', '71']\n"
     ]
    }
   ],
   "source": [
    "l1=[5,6,7]\n",
    "l2=[0,1]\n",
    "l3 =[]\n",
    "l4=[]\n",
    "a=0\n",
    "for e1 in l1:\n",
    "    for e2 in l2:\n",
    "        a=str(e1)+str(e2)\n",
    "        l3.append(a)\n",
    "        \n",
    "        \n",
    "print(l3)\n"
   ]
  },
  {
   "cell_type": "markdown",
   "id": "a0bae7b2",
   "metadata": {},
   "source": [
    "5. Given a two Python list. Iterate both lists simultaneously such that list1 should display item in original order and list2 in reverse order. It should work for any two lists.\n",
    "list1 = [10, 20, 30, 40]\n",
    "list2 = [100, 200, 300, 400]\n",
    "output:\n",
    "10 400\n",
    "20 300\n",
    "30 200\n",
    "40 100"
   ]
  },
  {
   "cell_type": "code",
   "execution_count": 40,
   "id": "7d6b0145",
   "metadata": {},
   "outputs": [
    {
     "name": "stdout",
     "output_type": "stream",
     "text": [
      "[10, 20, 30, 40]\n",
      "[400, 300, 200, 100]\n",
      "10 400\n",
      "20 300\n",
      "30 200\n",
      "40 100\n"
     ]
    }
   ],
   "source": [
    "l1=[10,20,30,40]\n",
    "l2=[100,200,300,400]\n",
    "l3 =l2[::-1]\n",
    "l4=[]\n",
    "print(l1)\n",
    "print(l3)\n",
    "\n",
    "for e1,e2 in zip(l1,l3):\n",
    "    print(e1,e2)\n",
    "    \n"
   ]
  },
  {
   "cell_type": "markdown",
   "id": "70ba0e75",
   "metadata": {},
   "source": [
    "6. Remove empty strings from the list of strings\n",
    "list1 = [\"Ashish\", \"\", \"Atharva\", \"Amit\", \"\", \"Revati\"]\n",
    "output:\n",
    "[\"Ashish\", \"Atharva\", \"Amit\", \"Revati\"]"
   ]
  },
  {
   "cell_type": "code",
   "execution_count": 46,
   "id": "10d9cd02",
   "metadata": {},
   "outputs": [
    {
     "name": "stdout",
     "output_type": "stream",
     "text": [
      "['Ashish', 'Atharva', 'Amit', 'Revati']\n"
     ]
    }
   ],
   "source": [
    "l1=[\"Ashish\", \"\", \"Atharva\", \"Amit\", \"\", \"Revati\"]\n",
    "\n",
    "l1.remove(\"\")\n",
    "l1.remove('')\n",
    "print(l1)\n"
   ]
  },
  {
   "cell_type": "markdown",
   "id": "99a30049",
   "metadata": {},
   "source": [
    "7. Add item 7000 after 6000 in the following Python List\n",
    "list1 = [10, 20, [300, 400, [5000, 6000], 500], 30, 40]\n",
    "output:\n",
    "[10, 20, [300, 400, [5000, 6000, 7000], 500], 30, 40"
   ]
  },
  {
   "cell_type": "code",
   "execution_count": 56,
   "id": "b00e062e",
   "metadata": {},
   "outputs": [
    {
     "name": "stdout",
     "output_type": "stream",
     "text": [
      "[10, 20, [300, 400, [5000, 6000, 7000], 500], 30, 40]\n"
     ]
    }
   ],
   "source": [
    "l1 = [10, 20, [300, 400, [5000, 6000], 500], 30, 40]\n",
    "    \n",
    "l2=l1[2][2]\n",
    "l2.insert(2,7000)\n",
    "\n",
    "print(l1)"
   ]
  },
  {
   "cell_type": "markdown",
   "id": "a764450e",
   "metadata": {},
   "source": [
    "11. Take a number as input from user. \n",
    "\n",
    "Print maximum and minimum integer which can be generated using all the digits in the input number\n",
    "\n",
    "Ex. Input 3421   : o/p max: 4321, min 1234\n",
    "Input 7789    : o/p max: 9776   min 6779"
   ]
  },
  {
   "cell_type": "markdown",
   "id": "1bbb36ca",
   "metadata": {},
   "source": []
  }
 ],
 "metadata": {
  "kernelspec": {
   "display_name": "Python 3 (ipykernel)",
   "language": "python",
   "name": "python3"
  },
  "language_info": {
   "codemirror_mode": {
    "name": "ipython",
    "version": 3
   },
   "file_extension": ".py",
   "mimetype": "text/x-python",
   "name": "python",
   "nbconvert_exporter": "python",
   "pygments_lexer": "ipython3",
   "version": "3.11.4"
  }
 },
 "nbformat": 4,
 "nbformat_minor": 5
}

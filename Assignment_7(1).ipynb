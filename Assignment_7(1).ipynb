{
 "cells": [
  {
   "cell_type": "markdown",
   "id": "4e2488f0",
   "metadata": {},
   "source": [
    "1. Given a string of odd length greater than 7, return a new string made of the middle three characters\n",
    "of a given String\n",
    "\n",
    "Given:\n",
    "str1 = \"RakeshzipPetabb\"\n",
    " Output\n",
    " zip\n",
    "\n",
    "str2 = \"JazzbonAyxx\"\n",
    " Output\n",
    " bon"
   ]
  },
  {
   "cell_type": "code",
   "execution_count": 24,
   "id": "52885785",
   "metadata": {},
   "outputs": [
    {
     "name": "stdout",
     "output_type": "stream",
     "text": [
      "zip\n",
      "bon\n"
     ]
    }
   ],
   "source": [
    "l1=[]\n",
    "s1 = \"RakeshzipPetabb\"\n",
    "midd=len(s1)//2\n",
    "\n",
    "a=midd-1\n",
    "b=midd+2\n",
    "\n",
    "print(s1[a:b])\n",
    "\n",
    "s2 = \"JazzbonAyxx\"\n",
    "mid=len(s2)//2\n",
    "c=mid-1\n",
    "d=mid+2\n",
    "print(s2[c:d])\n"
   ]
  },
  {
   "cell_type": "markdown",
   "id": "22cdacbd",
   "metadata": {},
   "source": [
    "2. Given two strings, s1 and s2, create a new string by appending s2 in the middle of s1\n",
    "\n",
    "Given:\n",
    "s1 = \"Ault\"\n",
    "s2 = \"Kelly\"\n",
    "\n",
    "Expected Output:\n",
    "AuKellylt"
   ]
  },
  {
   "cell_type": "code",
   "execution_count": 41,
   "id": "8fb3136c",
   "metadata": {},
   "outputs": [
    {
     "name": "stdout",
     "output_type": "stream",
     "text": [
      "AuKellylt\n"
     ]
    }
   ],
   "source": [
    "s1 = \"Ault\" \n",
    "s2 = \"Kelly\"\n",
    "\n",
    "# mid=len(s1)//2\n",
    "\n",
    "# b=a+2\n",
    "a=s1[0:2]\n",
    "b=s1[2:4]\n",
    "\n",
    "print(a+s2+b)\n"
   ]
  },
  {
   "cell_type": "markdown",
   "id": "51b4eefd",
   "metadata": {},
   "source": [
    "3. two strings, s1, and s2 return a new string made of the first, middle, and last characters each input\n",
    "string\n",
    "\n",
    "Given:\n",
    "s1 = \"America\"\n",
    "s2 = \"Japan\"\n",
    "Expected Output:\n",
    "AJrpan"
   ]
  },
  {
   "cell_type": "code",
   "execution_count": 11,
   "id": "4cdf5fed",
   "metadata": {},
   "outputs": [
    {
     "name": "stdout",
     "output_type": "stream",
     "text": [
      "AJrpan\n"
     ]
    }
   ],
   "source": [
    "s1 = \"America\"\n",
    "s2 = \"Japan\"\n",
    "\n",
    "d=s2[len(s2)//2::]\n",
    "a=s1[:1:]\n",
    "c=s1[3:4]\n",
    "b=s2[0:1:]\n",
    "\n",
    "print(a+b+c+d)"
   ]
  },
  {
   "cell_type": "markdown",
   "id": "b3174709",
   "metadata": {},
   "source": [
    "4. Given an input string with the combination of the lower and upper case arrange characters in such a\n",
    "way that all lowercase letters should come first\n"
   ]
  },
  {
   "cell_type": "code",
   "execution_count": 12,
   "id": "fc70b48a",
   "metadata": {},
   "outputs": [
    {
     "name": "stdout",
     "output_type": "stream",
     "text": [
      "Enter the stringakshaySURY\n"
     ]
    },
    {
     "ename": "NameError",
     "evalue": "name 'capitalize' is not defined",
     "output_type": "error",
     "traceback": [
      "\u001b[1;31m---------------------------------------------------------------------------\u001b[0m",
      "\u001b[1;31mNameError\u001b[0m                                 Traceback (most recent call last)",
      "Cell \u001b[1;32mIn[12], line 3\u001b[0m\n\u001b[0;32m      1\u001b[0m s1 \u001b[38;5;241m=\u001b[39m \u001b[38;5;28minput\u001b[39m(\u001b[38;5;124m\"\u001b[39m\u001b[38;5;124mEnter the string\u001b[39m\u001b[38;5;124m\"\u001b[39m)\n\u001b[1;32m----> 3\u001b[0m capitalize(s1)\n",
      "\u001b[1;31mNameError\u001b[0m: name 'capitalize' is not defined"
     ]
    }
   ],
   "source": [
    "s1 = input(\"Enter the string\")\n"
   ]
  },
  {
   "cell_type": "markdown",
   "id": "aed6dbb3",
   "metadata": {},
   "source": [
    "6. Find all occurrences of “USA” from right to left in a given string ignoring the case. also display the\n",
    "starting position\n",
    "Given:\n",
    "str1 = \"Welcome to USA. usa awesome, isn't it?\n",
    "Expected answer : 16, 11"
   ]
  },
  {
   "cell_type": "code",
   "execution_count": 23,
   "id": "620ce21a",
   "metadata": {},
   "outputs": [
    {
     "name": "stdout",
     "output_type": "stream",
     "text": [
      "11\n",
      "11\n"
     ]
    }
   ],
   "source": [
    "str1 = \"Welcome to USA. usa awesome, isn't it?\"\n",
    "\n",
    "x = str1.find(\"USA\")\n",
    "y = str1.rfind(\"USA\")\n",
    "\n",
    "print(x)\n",
    "print(y)"
   ]
  },
  {
   "cell_type": "code",
   "execution_count": null,
   "id": "72a44c68",
   "metadata": {},
   "outputs": [],
   "source": []
  },
  {
   "cell_type": "code",
   "execution_count": null,
   "id": "9a85b9b2",
   "metadata": {},
   "outputs": [],
   "source": []
  }
 ],
 "metadata": {
  "kernelspec": {
   "display_name": "Python 3 (ipykernel)",
   "language": "python",
   "name": "python3"
  },
  "language_info": {
   "codemirror_mode": {
    "name": "ipython",
    "version": 3
   },
   "file_extension": ".py",
   "mimetype": "text/x-python",
   "name": "python",
   "nbconvert_exporter": "python",
   "pygments_lexer": "ipython3",
   "version": "3.11.4"
  }
 },
 "nbformat": 4,
 "nbformat_minor": 5
}

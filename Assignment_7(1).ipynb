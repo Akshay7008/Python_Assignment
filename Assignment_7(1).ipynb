{
 "cells": [
  {
   "cell_type": "markdown",
   "id": "a5205a19",
   "metadata": {},
   "source": [
    "1. Given a string of odd length greater than 7, return a new string made of the middle three characters\n",
    "of a given String\n",
    "\n",
    "Given:\n",
    "str1 = \"RakeshzipPetabb\"\n",
    " Output\n",
    " zip\n",
    "\n",
    "str2 = \"JazzbonAyxx\"\n",
    " Output\n",
    " bon"
   ]
  },
  {
   "cell_type": "code",
   "execution_count": 24,
   "id": "52885785",
   "metadata": {},
   "outputs": [
    {
     "name": "stdout",
     "output_type": "stream",
     "text": [
      "zip\n",
      "bon\n"
     ]
    }
   ],
   "source": [
    "l1=[]\n",
    "s1 = \"RakeshzipPetabb\"\n",
    "midd=len(s1)//2\n",
    "\n",
    "a=midd-1\n",
    "b=midd+2\n",
    "\n",
    "print(s1[a:b])\n",
    "\n",
    "s2 = \"JazzbonAyxx\"\n",
    "mid=len(s2)//2\n",
    "c=mid-1\n",
    "d=mid+2\n",
    "print(s2[c:d])\n"
   ]
  },
  {
   "cell_type": "markdown",
   "id": "e4f232c4",
   "metadata": {},
   "source": [
    "2. Given two strings, s1 and s2, create a new string by appending s2 in the middle of s1\n",
    "\n",
    "Given:\n",
    "s1 = \"Ault\"\n",
    "s2 = \"Kelly\"\n",
    "\n",
    "Expected Output:\n",
    "AuKellylt"
   ]
  },
  {
   "cell_type": "code",
   "execution_count": 41,
   "id": "8fb3136c",
   "metadata": {},
   "outputs": [
    {
     "name": "stdout",
     "output_type": "stream",
     "text": [
      "AuKellylt\n"
     ]
    }
   ],
   "source": [
    "s1 = \"Ault\" \n",
    "s2 = \"Kelly\"\n",
    "\n",
    "# mid=len(s1)//2\n",
    "\n",
    "# b=a+2\n",
    "a=s1[0:2]\n",
    "b=s1[2:4]\n",
    "\n",
    "print(a+s2+b)\n"
   ]
  },
  {
   "cell_type": "markdown",
   "id": "8c0feb12",
   "metadata": {},
   "source": [
    "3. two strings, s1, and s2 return a new string made of the first, middle, and last characters each input\n",
    "string\n",
    "\n",
    "Given:\n",
    "s1 = \"America\"\n",
    "s2 = \"Japan\"\n",
    "Expected Output:\n",
    "AJrpan"
   ]
  },
  {
   "cell_type": "code",
   "execution_count": 11,
   "id": "4cdf5fed",
   "metadata": {},
   "outputs": [
    {
     "name": "stdout",
     "output_type": "stream",
     "text": [
      "AJrpan\n"
     ]
    }
   ],
   "source": [
    "s1 = \"America\"\n",
    "s2 = \"Japan\"\n",
    "\n",
    "d=s2[len(s2)//2::]\n",
    "a=s1[:1:]\n",
    "c=s1[3:4]\n",
    "b=s2[0:1:]\n",
    "\n",
    "print(a+b+c+d)"
   ]
  },
  {
   "cell_type": "markdown",
   "id": "1deb1ad1",
   "metadata": {},
   "source": [
    "4. Given an input string with the combination of the lower and upper case arrange characters in such a\n",
    "way that all lowercase letters should come first\n"
   ]
  },
  {
   "cell_type": "code",
   "execution_count": null,
   "id": "7827fdc6",
   "metadata": {},
   "outputs": [],
   "source": []
  },
  {
   "cell_type": "markdown",
   "id": "2a6055d8",
   "metadata": {},
   "source": [
    "6. Find all occurrences of “USA” from right to left in a given string ignoring the case. also display the\n",
    "starting position\n",
    "Given:\n",
    "str1 = \"Welcome to USA. usa awesome, isn't it?\n",
    "Expected answer : 16, 11"
   ]
  },
  {
   "cell_type": "code",
   "execution_count": 23,
   "id": "620ce21a",
   "metadata": {},
   "outputs": [
    {
     "name": "stdout",
     "output_type": "stream",
     "text": [
      "11\n",
      "11\n"
     ]
    }
   ],
   "source": [
    "str1 = \"Welcome to USA. usa awesome, isn't it?\"\n",
    "\n",
    "x = str1.find(\"USA\")\n",
    "y = str1.rfind(\"USA\")\n",
    "\n",
    "print(x)\n",
    "print(y)"
   ]
  },
  {
   "cell_type": "markdown",
   "id": "06e49459",
   "metadata": {},
   "source": [
    "7. Find all overlapping occurrences of given substring in given string\n",
    "Ex.\n",
    "String = 0111\n",
    "Substring = 11\n",
    "Expected answer : 2\n",
    "String : ANANAAAANNN\n",
    "Substring: ANA\n",
    "Expected answer : 2\n",
    "String : ANANAAAANNN\n",
    "Substring: AA\n",
    "Expected answer : 3"
   ]
  },
  {
   "cell_type": "code",
   "execution_count": 2,
   "id": "ac8be60e",
   "metadata": {},
   "outputs": [
    {
     "name": "stdout",
     "output_type": "stream",
     "text": [
      "2\n"
     ]
    }
   ],
   "source": [
    "string='0111'\n",
    "substring='11'\n",
    "len_str=len(substring)\n",
    "count = 0\n",
    "num=len(string)\n",
    "for idx in range(num):\n",
    "    if substring==string[idx:idx+len_str]:\n",
    "        count+=1\n",
    "print(count)\n",
    "        "
   ]
  },
  {
   "cell_type": "markdown",
   "id": "36289cf8",
   "metadata": {},
   "source": [
    "9. Find all mobile number mentioned in given paragraph of text\n",
    "Mobile number is always a 10 digit number no spaces no special characters\n",
    "Ex. Input= “this is a good number 9089786756 and 8900000000 is a desired number”\n",
    "Expected output: 9089786756 , 8900000000"
   ]
  },
  {
   "cell_type": "code",
   "execution_count": 7,
   "id": "4c3480a4",
   "metadata": {},
   "outputs": [
    {
     "name": "stdout",
     "output_type": "stream",
     "text": [
      "['this', 'is', 'a', 'good', 'number', '9089786756', 'and', '8900000000', 'is', 'a', 'desired', 'number']\n",
      "9089786756\n",
      "8900000000\n"
     ]
    }
   ],
   "source": [
    "s1= 'this is a good number 9089786756 and 8900000000 is a desired number'\n",
    "\n",
    "x=s1.split(' ')\n",
    "print(x)\n",
    "# len(x[0])\n",
    "for i,e in enumerate(x):\n",
    "    if (len(x[i])==10):\n",
    "        print(x[i])\n",
    "\n"
   ]
  },
  {
   "cell_type": "markdown",
   "id": "5e00a392",
   "metadata": {},
   "source": [
    "10. Count occurrence of spaces, and special characters in given string\n",
    "Ex.\n",
    "Input: Fgh^f #89\n",
    "Expected output :\n",
    "Spaces: 1\n",
    "Special characters: 2"
   ]
  },
  {
   "cell_type": "code",
   "execution_count": 4,
   "id": "2a8f3ddd",
   "metadata": {},
   "outputs": [
    {
     "name": "stdout",
     "output_type": "stream",
     "text": [
      "1\n",
      "2\n"
     ]
    }
   ],
   "source": [
    "s1='Fgh^f #89'\n",
    "c1=0\n",
    "c2=0\n",
    "for char in s1:\n",
    "    if (char==' '):\n",
    "        c1=c1+1\n",
    "#        print(c1)\n",
    "    if (char=='^')or(char=='#'):\n",
    "        c2=c2+1\n",
    "        print(c2)\n",
    "        \n",
    "\n"
   ]
  },
  {
   "cell_type": "markdown",
   "id": "4083fffc",
   "metadata": {},
   "source": [
    "11. Given a paragraph count number of words, sentences. Every sentence ends with either . or ? or !\n",
    "Print Count of how many normal sentences ending with . , how many interrogative sentences ( ending\n",
    "with ?) and how many exclamatory sentences ( ending with !).\n",
    "Ex.\n",
    "Input : “I am at CDAC. What about you? I am surprised by current weather!”\n",
    "Normal sentence : 1\n",
    "Interrogative: 1\n",
    "Exclamatory : 1"
   ]
  },
  {
   "cell_type": "code",
   "execution_count": 5,
   "id": "6284c200",
   "metadata": {},
   "outputs": [
    {
     "name": "stdout",
     "output_type": "stream",
     "text": [
      "1\n",
      "1\n",
      "1\n"
     ]
    }
   ],
   "source": [
    "s1='I am at CDAC. What about you? I am surprised by current weather!'\n",
    "c1=c2=c3=0\n",
    "for char in s1:\n",
    "    if(char=='.'):\n",
    "        c1+=1\n",
    "        print(c1)\n",
    "    if(char=='?'):\n",
    "        c2+=1\n",
    "        print(c2)\n",
    "    if(char=='!'):\n",
    "        c3+=1\n",
    "        print(c3)"
   ]
  },
  {
   "cell_type": "markdown",
   "id": "d1310b89",
   "metadata": {},
   "source": [
    "12. You are given a string S and width w.\n",
    "Your task is to wrap the string into a paragraph of width w\n",
    "Example .\n",
    "String : “ABCDEFGHIJKLIMNOQRSTUVWXYZ”\n",
    "Width: 4\n",
    "Output:\n",
    "ABCD\n",
    "EFGH\n",
    "IJKL\n",
    "IMNO\n",
    "QRST\n",
    "UVWX"
   ]
  },
  {
   "cell_type": "code",
   "execution_count": 13,
   "id": "e708a696",
   "metadata": {},
   "outputs": [
    {
     "ename": "ValueError",
     "evalue": "invalid literal for int() with base 10: 'ABCDEFGHIJKLIMNOQRSTUVWXYZ'",
     "output_type": "error",
     "traceback": [
      "\u001b[1;31m---------------------------------------------------------------------------\u001b[0m",
      "\u001b[1;31mValueError\u001b[0m                                Traceback (most recent call last)",
      "Cell \u001b[1;32mIn[13], line 2\u001b[0m\n\u001b[0;32m      1\u001b[0m string\u001b[38;5;241m=\u001b[39m\u001b[38;5;124m'\u001b[39m\u001b[38;5;124mABCDEFGHIJKLIMNOQRSTUVWXYZ\u001b[39m\u001b[38;5;124m'\u001b[39m\n\u001b[1;32m----> 2\u001b[0m width\u001b[38;5;241m=\u001b[39m\u001b[38;5;28mint\u001b[39m(string)\n\u001b[0;32m      4\u001b[0m len_word\u001b[38;5;241m=\u001b[39m\u001b[38;5;28mlen\u001b[39m(string)\n\u001b[0;32m      5\u001b[0m \u001b[38;5;28;01mfor\u001b[39;00m i \u001b[38;5;129;01min\u001b[39;00m \u001b[38;5;28mrange\u001b[39m(len_word):\n",
      "\u001b[1;31mValueError\u001b[0m: invalid literal for int() with base 10: 'ABCDEFGHIJKLIMNOQRSTUVWXYZ'"
     ]
    }
   ],
   "source": [
    "string='ABCDEFGHIJKLIMNOQRSTUVWXYZ'\n",
    "width=int(string)\n",
    "\n",
    "len_word=len(string)\n",
    "for i in range(len_word):\n",
    "    if len(string[idx:idx+width])==4:\n",
    "        print(string[idx:idx+width])\n",
    "    else:\n",
    "        print(string[idx:])\n",
    "\n"
   ]
  },
  {
   "cell_type": "code",
   "execution_count": 10,
   "id": "92c552d3",
   "metadata": {},
   "outputs": [
    {
     "name": "stdout",
     "output_type": "stream",
     "text": [
      "['Thank you for the music', 'Welcome to the jungle']\n"
     ]
    }
   ],
   "source": [
    "txt = \"Thank you for the music\\nWelcome to the jungle\"\n",
    "\n",
    "x = txt.splitlines()\n",
    "\n",
    "print(x)"
   ]
  },
  {
   "cell_type": "code",
   "execution_count": null,
   "id": "b21c66bb",
   "metadata": {},
   "outputs": [],
   "source": []
  }
 ],
 "metadata": {
  "kernelspec": {
   "display_name": "Python 3 (ipykernel)",
   "language": "python",
   "name": "python3"
  },
  "language_info": {
   "codemirror_mode": {
    "name": "ipython",
    "version": 3
   },
   "file_extension": ".py",
   "mimetype": "text/x-python",
   "name": "python",
   "nbconvert_exporter": "python",
   "pygments_lexer": "ipython3",
   "version": "3.11.4"
  }
 },
 "nbformat": 4,
 "nbformat_minor": 5
}

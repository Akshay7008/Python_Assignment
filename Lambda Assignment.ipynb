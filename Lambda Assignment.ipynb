{
 "cells": [
  {
   "cell_type": "code",
   "execution_count": 22,
   "id": "f90e515c",
   "metadata": {},
   "outputs": [
    {
     "ename": "TypeError",
     "evalue": "'int' object is not subscriptable",
     "output_type": "error",
     "traceback": [
      "\u001b[1;31m---------------------------------------------------------------------------\u001b[0m",
      "\u001b[1;31mTypeError\u001b[0m                                 Traceback (most recent call last)",
      "Cell \u001b[1;32mIn[22], line 4\u001b[0m\n\u001b[0;32m      2\u001b[0m \u001b[38;5;66;03m#l=['zebra','akshay','rahul','vishal']\u001b[39;00m\n\u001b[0;32m      3\u001b[0m l2\u001b[38;5;241m=\u001b[39m[]\n\u001b[1;32m----> 4\u001b[0m a\u001b[38;5;241m=\u001b[39m \u001b[38;5;28msorted\u001b[39m(l,key \u001b[38;5;241m=\u001b[39m (\u001b[38;5;28;01mlambda\u001b[39;00m l2:l2[\u001b[38;5;241m1\u001b[39m]))\n\u001b[0;32m      5\u001b[0m \u001b[38;5;28mprint\u001b[39m(a)\n",
      "Cell \u001b[1;32mIn[22], line 4\u001b[0m, in \u001b[0;36m<lambda>\u001b[1;34m(l2)\u001b[0m\n\u001b[0;32m      2\u001b[0m \u001b[38;5;66;03m#l=['zebra','akshay','rahul','vishal']\u001b[39;00m\n\u001b[0;32m      3\u001b[0m l2\u001b[38;5;241m=\u001b[39m[]\n\u001b[1;32m----> 4\u001b[0m a\u001b[38;5;241m=\u001b[39m \u001b[38;5;28msorted\u001b[39m(l,key \u001b[38;5;241m=\u001b[39m (\u001b[38;5;28;01mlambda\u001b[39;00m l2:l2[\u001b[38;5;241m1\u001b[39m]))\n\u001b[0;32m      5\u001b[0m \u001b[38;5;28mprint\u001b[39m(a)\n",
      "\u001b[1;31mTypeError\u001b[0m: 'int' object is not subscriptable"
     ]
    }
   ],
   "source": [
    "l=[12,2,34,45]\n",
    "#l=['zebra','akshay','rahul','vishal']\n",
    "l2=[]\n",
    "a= sorted(l,key = (lambda l2:l2[1]))\n",
    "print(a)"
   ]
  },
  {
   "cell_type": "markdown",
   "id": "1de326ac",
   "metadata": {},
   "source": [
    "Que 1)Sort all the numbers in a list in descending order using lambda function"
   ]
  },
  {
   "cell_type": "code",
   "execution_count": 21,
   "id": "ba5b7f35",
   "metadata": {},
   "outputs": [
    {
     "name": "stdout",
     "output_type": "stream",
     "text": [
      "[50.9, 20, 12]\n"
     ]
    }
   ],
   "source": [
    "l =[12,20,50.90]\n",
    "l1=[]\n",
    "a=sorted(l,key = (lambda l1:-l1))\n",
    "print(a)"
   ]
  },
  {
   "cell_type": "markdown",
   "id": "a616398c",
   "metadata": {},
   "source": [
    " Que 2)Sort all the characters of given string using lambda function"
   ]
  },
  {
   "cell_type": "code",
   "execution_count": 5,
   "id": "ccde62ea",
   "metadata": {},
   "outputs": [
    {
     "name": "stdout",
     "output_type": "stream",
     "text": [
      "['yash', 'harshal', 'abhi', 'akshay', 'aman']\n"
     ]
    }
   ],
   "source": [
    "l=['akshay','yash','harshal','aman','abhi']\n",
    "#sec_char=l[1]\n",
    "l1=[]\n",
    "b= sorted(l,key = (lambda l1:l1[1]))\n",
    "print(b)"
   ]
  },
  {
   "cell_type": "markdown",
   "id": "ade0f589",
   "metadata": {},
   "source": [
    "Que 3) Given list of strings, sort all the strings by last character of that string. . Use lambda function and normal function both."
   ]
  },
  {
   "cell_type": "code",
   "execution_count": 26,
   "id": "0257d09e",
   "metadata": {},
   "outputs": [
    {
     "name": "stdout",
     "output_type": "stream",
     "text": [
      "['yash', 'abhi', 'harshal', 'aman', 'akshay']\n"
     ]
    }
   ],
   "source": [
    "l=['akshay','yash','harshal','aman','abhi']\n",
    "\n",
    "# l1=[]\n",
    "# b= sorted(l,key = (lambda l1:l1[-1]))\n",
    "# print(b)\n",
    "\n",
    "#Normal Function\n",
    "\n",
    "def fun1(list):\n",
    "    return list[-1]\n",
    "    \n",
    "print(sorted(l, key = fun1))"
   ]
  },
  {
   "cell_type": "markdown",
   "id": "3add68e6",
   "metadata": {},
   "source": [
    "Q Given list of employees. This list may contain repetitions. Find all unique employee names and print them as per order of second character in that name. Use lambda function and normal function both"
   ]
  },
  {
   "cell_type": "code",
   "execution_count": 28,
   "id": "06c53191",
   "metadata": {},
   "outputs": [
    {
     "name": "stdout",
     "output_type": "stream",
     "text": [
      "['jay', 'rahul', 'akshay', 'robin']\n"
     ]
    }
   ],
   "source": [
    "employee=['rahul','robin','jay','rahul','akshay','rahul']\n",
    "\n",
    "uniq_employee=set(employee)\n",
    "#print(uniq_employee)\n",
    "\n",
    "sorted_emp=[]\n",
    "\n",
    "x=sorted(uniq_employee,key = (lambda sorted_emp:sorted_emp[1]))\n",
    "print(x)"
   ]
  },
  {
   "cell_type": "markdown",
   "id": "ca6c796a",
   "metadata": {},
   "source": [
    "Take Employee id and Employee name of 5 employees from user. Store it in dictionary. Print all employees in increasing order of employee Id . Also print all employees in alphabetical order by name."
   ]
  },
  {
   "cell_type": "code",
   "execution_count": 7,
   "id": "aadafae0",
   "metadata": {},
   "outputs": [
    {
     "name": "stdout",
     "output_type": "stream",
     "text": [
      "[1, 4, 3, 2]\n"
     ]
    }
   ],
   "source": [
    "emp={1:'robin',4:'smith',3:'aditya',2:'parth'}\n",
    "\n",
    "x=sorted(emp,key =(lambda d:emp.keys()))\n",
    "print(x)"
   ]
  },
  {
   "cell_type": "markdown",
   "id": "d7ee5df5",
   "metadata": {},
   "source": [
    "Take comma separated numbers as input from the user. Split it in list of strings. Now convert every string in this list to float using map function"
   ]
  },
  {
   "cell_type": "code",
   "execution_count": 48,
   "id": "035434f0",
   "metadata": {},
   "outputs": [
    {
     "name": "stdout",
     "output_type": "stream",
     "text": [
      "enter the values use , between them12,85,45,36\n"
     ]
    },
    {
     "data": {
      "text/plain": [
       "[12.0, 85.0, 45.0, 36.0]"
      ]
     },
     "execution_count": 48,
     "metadata": {},
     "output_type": "execute_result"
    }
   ],
   "source": [
    "l1=input(\"enter the values use , between them\")\n",
    "\n",
    "list_1=(l1.split(','))\n",
    "\n",
    "list(map(float, list_1))\n"
   ]
  },
  {
   "cell_type": "markdown",
   "id": "b2c3fc4b",
   "metadata": {},
   "source": [
    " Given list of floating point numbers. Convert every number into string and then join all the numbers such that they are separated by pipe(|)"
   ]
  },
  {
   "cell_type": "code",
   "execution_count": 2,
   "id": "4f5b869f",
   "metadata": {},
   "outputs": [
    {
     "data": {
      "text/plain": [
       "'12.0|85.0|45.0|60.0'"
      ]
     },
     "execution_count": 2,
     "metadata": {},
     "output_type": "execute_result"
    }
   ],
   "source": [
    "l1=[12.0,85.0,45.0,60.0]\n",
    "\n",
    "a=list(map(str,l1))\n",
    "\n",
    "'|'.join(a)\n",
    "\n",
    "x=map()"
   ]
  },
  {
   "cell_type": "markdown",
   "id": "0a82a01e",
   "metadata": {},
   "source": [
    "Given list of integers. Use map function to calculate square of all and store in list. Then print sum of all square values."
   ]
  },
  {
   "cell_type": "code",
   "execution_count": 50,
   "id": "55906cae",
   "metadata": {},
   "outputs": [
    {
     "data": {
      "text/plain": [
       "[4, 25, 144, 1296, 6084, 484]"
      ]
     },
     "execution_count": 50,
     "metadata": {},
     "output_type": "execute_result"
    }
   ],
   "source": [
    "list_1=[2,5,12,36,78,22]\n",
    "\n",
    "list(map(lambda sq:sq**2, list_1))"
   ]
  },
  {
   "cell_type": "code",
   "execution_count": null,
   "id": "35f166c5",
   "metadata": {},
   "outputs": [],
   "source": []
  }
 ],
 "metadata": {
  "kernelspec": {
   "display_name": "Python 3 (ipykernel)",
   "language": "python",
   "name": "python3"
  },
  "language_info": {
   "codemirror_mode": {
    "name": "ipython",
    "version": 3
   },
   "file_extension": ".py",
   "mimetype": "text/x-python",
   "name": "python",
   "nbconvert_exporter": "python",
   "pygments_lexer": "ipython3",
   "version": "3.11.4"
  }
 },
 "nbformat": 4,
 "nbformat_minor": 5
}
